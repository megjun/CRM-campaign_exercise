{
 "cells": [
  {
   "cell_type": "markdown",
   "id": "069f89d2-fdcb-4277-a51f-512822bbbe87",
   "metadata": {},
   "source": [
    "# Exercise: CRM campaign_Final"
   ]
  },
  {
   "cell_type": "markdown",
   "id": "995cddde-77ce-4012-9312-e12e0eb372b4",
   "metadata": {},
   "source": [
    "After testing our system in the notebook `Exercise: CRM campaign_Teste`, we are now ready to build our final system to based on the files of the 7 past days streams, write a script with the top 50 songs per country. We also check the memory RAM used in this system. As we checked in the notebook `Exercise: CRM campaign_Teste` the system works as required. We also have write a file `README` with the information about how should be used the system.\n",
    "\n",
    "The system bellow is ready to be used :)!"
   ]
  },
  {
   "cell_type": "code",
   "execution_count": null,
   "id": "7d459e8c-ced7-4bcd-ab8b-a851fecfed40",
   "metadata": {},
   "outputs": [],
   "source": [
    "import os \n",
    "import pandas as pd\n",
    "from datetime import datetime, timedelta"
   ]
  },
  {
   "cell_type": "code",
   "execution_count": null,
   "id": "7d5f6f1a-42ce-4651-9895-63aec57df59f",
   "metadata": {},
   "outputs": [],
   "source": [
    "# function to read the daily log file and return a DataFrame with the data\n",
    "\n",
    "def read_daily_log_file(log_file):\n",
    "    # Read the daily log file and return a DataFrame containing the data\n",
    "    df = pd.read_csv(log_file, sep='|', header=None, names=['sng_id', 'user_id', 'country'])\n",
    "    return df"
   ]
  },
  {
   "cell_type": "code",
   "execution_count": null,
   "id": "5ae0667f-05bb-40f3-817e-778a10782fbe",
   "metadata": {},
   "outputs": [],
   "source": [
    "# To compute top_songs:\n",
    "\n",
    "def compute_top_songs(data, output_file):\n",
    "   \n",
    "    # Group by 'country' and 'sng_id' and count the streams\n",
    "    # We are using `size()`, because we want to include missing values whether they exist\n",
    "    grouped = data.groupby(['country', 'sng_id']).size().reset_index(name='streams')\n",
    "   \n",
    "    # Sort the data (top songs per country)\n",
    "    sorted_grouped = grouped.sort_values(['country', 'streams'], ascending=[True, False])\n",
    "\n",
    "    # Create a dictionary to store the top_50 songs for each country\n",
    "    top_50_songs = {}\n",
    "    for country, group in sorted_grouped.groupby('country'):\n",
    "        top_50_songs[country] = group.head(50)\n",
    "\n",
    "    # Write the top 50 songs for each country to the output file\n",
    "    with open(output_file, 'w') as file:\n",
    "        for country, group in top_50_songs.items():\n",
    "            songs_str = ','.join(f\"{sng_id}:{streams}\" for _, sng_id, streams in group.itertuples(index=False))\n",
    "            file.write(f\"{country}|{songs_str}\\n\")"
   ]
  },
  {
   "cell_type": "code",
   "execution_count": null,
   "id": "8ac802bc-860d-4358-a916-eb5d45d48bcf",
   "metadata": {},
   "outputs": [],
   "source": [
    "def main(input_folder, output_folder, start_date):\n",
    "    \n",
    "    # Get current date\n",
    "    today = datetime.today()\n",
    "    \n",
    "    # Create a list to store the dates of the last 7 days\n",
    "    date_range = [today - timedelta(days=i) for i in range(1, 8)]\n",
    "\n",
    "    data_list = []  # List to store data for the past 7 days\n",
    "\n",
    "    for day in date_range:\n",
    "        log_file = f\"listen-{day.strftime('%Y-%m-%d')}.txt\"\n",
    "        log_file_path = os.path.join(input_folder, log_file)\n",
    "\n",
    "        if os.path.isfile(log_file_path):\n",
    "            data = read_daily_log_file(log_file_path)\n",
    "            data_list.append(data)\n",
    "            print(f\"Processed log file: {log_file}\")\n",
    "        else:\n",
    "            print(f\"Log file not found: {log_file}\")\n",
    "            \n",
    "\n",
    "    if data_list:\n",
    "        \n",
    "        # Concatenate data from the past 7 days into a single DataFrame\n",
    "        combined_data = pd.concat(data_list, ignore_index=True)\n",
    "        output_file = os.path.join(output_folder, f\"country_top50_{start_date.strftime('%Y-%m-%d')}.txt\")\n",
    "        compute_top_songs(combined_data, output_file)\n",
    "        print(f\"Top 50 Songs for the past 7 days saved in {output_file}\")"
   ]
  },
  {
   "cell_type": "code",
   "execution_count": null,
   "id": "ba64a397-f7db-465b-8c5a-ce084a7b0453",
   "metadata": {},
   "outputs": [],
   "source": [
    "# Let's check the time that takes this system\n",
    "\n",
    "if __name__ == \"__main__\":\n",
    "    input_folder = \"data\"  \n",
    "    output_folder = \"output_top-50-songs\"  \n",
    "    \n",
    "    main(input_folder, output_folder)"
   ]
  }
 ],
 "metadata": {
  "kernelspec": {
   "display_name": "Python 3 (ipykernel)",
   "language": "python",
   "name": "python3"
  },
  "language_info": {
   "codemirror_mode": {
    "name": "ipython",
    "version": 3
   },
   "file_extension": ".py",
   "mimetype": "text/x-python",
   "name": "python",
   "nbconvert_exporter": "python",
   "pygments_lexer": "ipython3",
   "version": "3.9.13"
  }
 },
 "nbformat": 4,
 "nbformat_minor": 5
}
